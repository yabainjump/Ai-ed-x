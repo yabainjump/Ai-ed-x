{
 "cells": [
  {
   "cell_type": "code",
   "execution_count": null,
   "metadata": {},
   "outputs": [],
   "source": [
    "!pip install transformers datasets evaluate transformers[torch]"
   ]
  },
  {
   "cell_type": "code",
   "execution_count": 1,
   "metadata": {},
   "outputs": [],
   "source": [
    "from transformers import AutoModelForQuestionAnswering, AutoTokenizer\n",
    "\n",
    "BASE_MODEL = \"Nadav/camembert-base-squad-fr\"\n",
    "\n",
    "model = AutoModelForQuestionAnswering.from_pretrained(BASE_MODEL)\n",
    "tokenizer = AutoTokenizer.from_pretrained(BASE_MODEL)"
   ]
  },
  {
   "cell_type": "code",
   "execution_count": null,
   "metadata": {},
   "outputs": [],
   "source": [
    "print(1)"
   ]
  },
  {
   "cell_type": "code",
   "execution_count": null,
   "metadata": {},
   "outputs": [],
   "source": [
    "from transformers import  AutoModelForQuestionAnswering, TrainingArguments\n",
    "\n",
    "model = AutoModelForQuestionAnswering.from_pretrained(BASE_MODEL)"
   ]
  },
  {
   "attachments": {},
   "cell_type": "markdown",
   "metadata": {},
   "source": [
    "### Load and process dataset"
   ]
  },
  {
   "attachments": {},
   "cell_type": "markdown",
   "metadata": {},
   "source": [
    "#### Load dataset"
   ]
  },
  {
   "cell_type": "code",
   "execution_count": null,
   "metadata": {},
   "outputs": [],
   "source": [
    "#Load context\n",
    "context = ''\n",
    "with open('./diabete.txt', 'r') as context_file:\n",
    "    context = \" \".join([line.strip() for line in context_file.readlines()])\n",
    "\n",
    "#Load questions answer\n",
    "questions = []\n",
    "responses = []\n",
    "with open('./question_reponse.txt', 'r') as qa_file :\n",
    "    for line in qa_file:\n",
    "        fline = line.strip().lower() \n",
    "        if fline.startswith('r:'):\n",
    "            responses.append(fline)\n",
    "        else:\n",
    "            questions.append(fline)"
   ]
  },
  {
   "cell_type": "code",
   "execution_count": null,
   "metadata": {},
   "outputs": [],
   "source": [
    "titles = ['neuro anatomie'] * len (questions)\n",
    "ids = [str(i) for i in range(len(questions))]\n",
    "contexts = [context] * len (questions)\n",
    "answers = [{'text': [answer], \"answer_start\":[context.find(answer)]} for answer in responses]"
   ]
  },
  {
   "cell_type": "code",
   "execution_count": null,
   "metadata": {},
   "outputs": [],
   "source": [
    "from datasets import Dataset, DatasetDict\n",
    "\n",
    "dataset = Dataset.from_list([ids, titles, contexts, questions, answers], features = ['id', 'title', 'context', 'question', 'answer'])\n",
    "raw_dataset = DatasetDict({'train': dataset})"
   ]
  },
  {
   "cell_type": "code",
   "execution_count": null,
   "metadata": {},
   "outputs": [],
   "source": []
  }
 ],
 "metadata": {
  "kernelspec": {
   "display_name": "Python 3",
   "language": "python",
   "name": "python3"
  },
  "language_info": {
   "codemirror_mode": {
    "name": "ipython",
    "version": 3
   },
   "file_extension": ".py",
   "mimetype": "text/x-python",
   "name": "python",
   "nbconvert_exporter": "python",
   "pygments_lexer": "ipython3",
   "version": "3.10.11"
  },
  "orig_nbformat": 4
 },
 "nbformat": 4,
 "nbformat_minor": 2
}
